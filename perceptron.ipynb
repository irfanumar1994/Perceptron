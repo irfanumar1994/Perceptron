{
 "cells": [
  {
   "cell_type": "markdown",
   "metadata": {},
   "source": [
    "<h1><center>Deep Learning</center></h1>\n",
    "<h2><center>Assignment # 2</center></h2>\n",
    "<h3><center>Task # 1</center></h3>"
   ]
  },
  {
   "cell_type": "code",
   "execution_count": 1,
   "metadata": {},
   "outputs": [],
   "source": [
    "# Include libraries which may use in implementation\n",
    "import numpy as np\n",
    "import random\n",
    "import math\n",
    "import pickle\n",
    "from sklearn.utils import shuffle\n",
    "import matplotlib.pyplot as plt\n",
    "%matplotlib inline"
   ]
  },
  {
   "cell_type": "code",
   "execution_count": 2,
   "metadata": {},
   "outputs": [],
   "source": [
    "# Create a Neural_Network class\n",
    "class Neural_Network(object):    \n",
    "    def __init__(self,inputSize = 2,outputSize = 1 ):        \n",
    "        # size of layers\n",
    "        self.inputSize = inputSize\n",
    "        self.outputSize = outputSize    \n",
    "        #weights\n",
    "        self.W1 = np.random.rand(inputSize +1, outputSize)\n",
    "        # randomly initialize W1 using random function of numpy\n",
    "        # size of the wieght will be (inputSize +1, outputSize) that +1 is for bias    \n",
    "\n",
    "    def feedforward(self, X):\n",
    "        #forward propagation through our network\n",
    "        # dot product of X (input) and set of weights\n",
    "        # apply activation function (i.e. sigmoid)   \n",
    "        return self.sigmoid(np.dot( X, self.W1)) # return your answer with as a final output of the network\n",
    "\n",
    "    def sigmoid(self, s):\n",
    "        # activation function\n",
    "        return 1/ (1 + np.exp(-s)) # apply sigmoid function on s and return it's value\n",
    "\n",
    "    def sigmoid_derivative(self, sig):\n",
    "        #derivative of sigmoid\n",
    "#         sig = self.sigmoid(s)\n",
    "        return sig * (1-sig) # apply derivative of sigmoid on s and return it's value \n",
    "\n",
    "    def backwardpropagate(self,X, Y, y_pred, lr):\n",
    "        # backward propagate through the network\n",
    "        # compute error in output which is loss compute cross entropy loss function\n",
    "        # applying derivative of sigmoid to the error\n",
    "        # adjust set of weights\n",
    "        der_error_output = (y_pred - Y)\n",
    "        \n",
    "#         print(\"w1 >> \", self.W1)\n",
    "#         error = self.crossentropy(Y, y_pred)\n",
    "#         print(\"error: \", error)\n",
    "        product = self.sigmoid_derivative(y_pred)* der_error_output\n",
    "        self.W1 = self.W1 -lr * (np.dot(X.T, product))\n",
    "        \n",
    "        \n",
    "        \n",
    "    \n",
    "    def crossentropy(self, Y, Y_pred):\n",
    "        # compute error based on crossentropy loss \n",
    "        return- np.sum((Y * np.log2 (Y_pred)) + ((1-Y)* np.log2 (1- Y_pred)))#error\n",
    "\n",
    "    def train(self, trainX, trainY,epochs = 100, learningRate = 0.001, plot_err = True ,validationX = 'Null', validationY = 'Null'):\n",
    "        # feed forward trainX and trainY and recivce predicted value\n",
    "        # backpropagation with trainX, trainY, predicted value and learning rate.\n",
    "        # if validationX and validationY are not null than show validation accuracy and error of the model.\n",
    "        # plot error of the model if plot_err is true\n",
    "        errorTrain =[]\n",
    "        errorValid =[]\n",
    "        ValidationAccuracy =[]\n",
    "        TraingingAccuracy = []\n",
    "        for i in range(epochs): \n",
    "            prediction = self.feedforward(trainX)\n",
    "            self.backwardpropagate(X=trainX, Y=trainY, y_pred= prediction,lr= learningRate )\n",
    "            errorTrain.append(self.crossentropy(Y=trainY,Y_pred = prediction ))\n",
    "            errorValid.append(self.crossentropy(validationY, self.predict(validationX)))\n",
    "            ValidationAccuracy.append(self.accuracy(validationX,validationY))\n",
    "            TraingingAccuracy.append(self.accuracy(trainX,trainY))\n",
    "        \n",
    "        if(plot_err): #Training Loss\n",
    "            plt.plot(range(epochs), errorTrain, label = 'Training loss curve:' + str(errorTrain[-1]))\n",
    "            plt.legend()\n",
    "            plt.title('loss curves with learning rate:' + str (learningRate))\n",
    "        if(validationX != 'Null' and validationY != 'Null'):\n",
    "            plt.plot(range(epochs), errorValid, label = 'Validation loss curve:' +str(errorValid[-1]) )\n",
    "            plt.legend()\n",
    "            plt.xlabel('Epochs') \n",
    "            plt.ylabel('Entropy Loss') \n",
    "            plt.show()\n",
    "            \n",
    "            plt.plot(range(epochs), TraingingAccuracy, label = 'Trainging accuracy : ' + str (TraingingAccuracy[-1]))\n",
    "            plt.plot(range(epochs), ValidationAccuracy, label = 'Validation accuracy: ' + str (ValidationAccuracy[-1]))\n",
    "            plt.legend()\n",
    "            plt.title('Accuracy curves with learning rate:' + str (learningRate))\n",
    "            plt.xlabel('Epochs') \n",
    "            plt.ylabel('Accuracy') \n",
    "            plt.show()\n",
    "        \n",
    "    \n",
    "    def predict(self, testX):\n",
    "        # predict the value of testX\n",
    "        return self.feedforward(testX)\n",
    "    \n",
    "    def accuracy(self, testX, testY):\n",
    "        # predict the value of trainX\n",
    "        # compare it with testY\n",
    "        # compute accuracy, print it and show in the form of picture\n",
    "        testX_pred = self.predict(testX)\n",
    "        TP = TN =0\n",
    "        threshold = 0.5\n",
    "        for i in range(len(testY)):\n",
    "            if (testX_pred[i] >= threshold):\n",
    "                testX_pred[i] =1\n",
    "            else:\n",
    "                testX_pred[i] =0\n",
    "            if testX_pred[i] == testY[i]:\n",
    "                TP+=1\n",
    "        _accuracy = (TP * 100) / len(testY)\n",
    "        return (_accuracy)   \n",
    "        \n",
    "    def saveModel(self,name):\n",
    "        # save your trained model, it is your interpretation how, which and what data you store\n",
    "        # which you will use later for prediction\n",
    "        print('saving model')\n",
    "        saved_model = np.save(name,self.W1)\n",
    "        print('model saved..')\n",
    "        \n",
    "    def loadModel(self,name):\n",
    "        # load your trained model, load exactly how you stored it.\n",
    "        self.W1= np.load(name )\n",
    "        print(self.W1)\n",
    "\n",
    "    \n"
   ]
  },
  {
   "cell_type": "code",
   "execution_count": 3,
   "metadata": {},
   "outputs": [
    {
     "data": {
      "image/png": "[encoded data removed]",
      "text/plain": [
       "<Figure size 432x288 with 1 Axes>"
      ]
     },
     "metadata": {
      "needs_background": "light"
     },
     "output_type": "display_data"
    }
   ],
   "source": [
    "# generating dataset point\n",
    "np.random.seed(1)\n",
    "no_of_samples = 2000\n",
    "dims = 2\n",
    "#Generating random points of values between 0 to 1\n",
    "class1=np.random.rand(no_of_samples,dims)\n",
    "#To add separability we will add a bias of 1.1\n",
    "class2=np.random.rand(no_of_samples,dims)+1.1\n",
    "class_1_label=np.array([1 for n in range(no_of_samples)])\n",
    "class_2_label=np.array([0 for n in range(no_of_samples)])\n",
    "#Lets visualize the dataset\n",
    "plt.scatter(class1[:,0],class1[:,1], marker='^', label=\"class 1\")\n",
    "plt.scatter(class2[:,0],class2[:,1], marker='o', label=\"class 2\")\n",
    "plt.xlabel('Dimension 1')\n",
    "plt.ylabel('Dimension 2')\n",
    "plt.legend(loc='best')\n",
    "plt.show()"
   ]
  },
  {
   "cell_type": "code",
   "execution_count": 6,
   "metadata": {},
   "outputs": [],
   "source": [
    "def ShuffletrainTestSplit(data, label, trainPercentage, testPercantage):\n",
    "    X, y = shuffle(data, label)\n",
    "\n",
    "#     print(\"X: \", len(X), \"y: \", len(y))\n",
    "\n",
    "    trainX = X[:int(trainPercentage * len(X))] # training data point\n",
    "    trainY = y[:int(trainPercentage * len(y))] # training lables\n",
    "    trainY = np.expand_dims(trainY, axis = 1)\n",
    "    trainX = np.hstack((trainX, np.atleast_2d(np.ones(len(trainX))).T))\n",
    "\n",
    "\n",
    "    validX = X[int(trainPercentage * len(X)) :  int(trainPercentage * len(X)) + int(testPercantage * len(X)) ] # validation data point\n",
    "    validY = y[int(trainPercentage * len(y))  :  int(trainPercentage * len(y)) + int(testPercantage * len(y)) ]# validation lables\n",
    "    validY = np.expand_dims(validY, axis = 1)\n",
    "    validX = np.hstack((validX, np.atleast_2d(np.ones(len(validX))).T))\n",
    "    \n",
    "    testX = X[int(trainPercentage * len(X)) +  int(testPercantage * len(X))  :]# testing data point\n",
    "    testY = y[int(trainPercentage * len(y)) +  int(testPercantage * len(X))  :]# testing lables\n",
    "    testY = np.expand_dims(testY, axis = 1)\n",
    "    testX = np.hstack((testX, np.atleast_2d(np.ones(len(testX))).T))\n",
    "    print(\"tr: \", len(trainX) ,\"v: \",  len(validX), \"ts: \",  len(testX))\n",
    "    print('Done')\n",
    "    return trainX, trainY, testX, testY,validX,validY\n"
   ]
  },
  {
   "cell_type": "code",
   "execution_count": 7,
   "metadata": {},
   "outputs": [
    {
     "name": "stdout",
     "output_type": "stream",
     "text": [
      "tr:  2800 v:  600 ts:  600\n",
      "Done\n"
     ]
    }
   ],
   "source": [
    "data = np.concatenate((class1,class2),axis=0)\n",
    "label = np.concatenate((class_1_label,class_2_label),axis=0)\n",
    "trainX, trainY, testX, testY,validX,validY= ShuffletrainTestSplit(data, label, 0.70, 0.15)"
   ]
  },
  {
   "cell_type": "code",
   "execution_count": 8,
   "metadata": {},
   "outputs": [
    {
     "name": "stderr",
     "output_type": "stream",
     "text": [
      "D:\\Installed\\Anaconda\\lib\\site-packages\\ipykernel_launcher.py:68: FutureWarning: elementwise comparison failed; returning scalar instead, but in the future will perform elementwise comparison\n"
     ]
    },
    {
     "data": {
      "image/png": "[encoded data removed]",
      "text/plain": [
       "<Figure size 432x288 with 1 Axes>"
      ]
     },
     "metadata": {
      "needs_background": "light"
     },
     "output_type": "display_data"
    },
    {
     "data": {
      "image/png": "[encoded data removed]",
      "text/plain": [
       "<Figure size 432x288 with 1 Axes>"
      ]
     },
     "metadata": {
      "needs_background": "light"
     },
     "output_type": "display_data"
    }
   ],
   "source": [
    "model = Neural_Network(2,1)\n",
    "# try different combinations of epochs and learning rate\n",
    "model.train(trainX, trainY, epochs = 100, learningRate = 0.001, validationX = validX, validationY = validY)"
   ]
  },
  {
   "cell_type": "code",
   "execution_count": 9,
   "metadata": {},
   "outputs": [
    {
     "data": {
      "text/plain": [
       "100.0"
      ]
     },
     "execution_count": 9,
     "metadata": {},
     "output_type": "execute_result"
    }
   ],
   "source": [
    "model.accuracy(testX,testY)"
   ]
  },
  {
   "cell_type": "code",
   "execution_count": 12,
   "metadata": {},
   "outputs": [
    {
     "name": "stdout",
     "output_type": "stream",
     "text": [
      "saving model\n",
      "model saved..\n"
     ]
    }
   ],
   "source": [
    "#save the best model which you have trained, \n",
    "model.saveModel('msds19027_task1_saved.npy')"
   ]
  },
  {
   "cell_type": "markdown",
   "metadata": {},
   "source": [
    "#### Note: This below section will be used for the evaluation of this task, we need your model and we will run script below to evaluated your model"
   ]
  },
  {
   "cell_type": "code",
   "execution_count": 13,
   "metadata": {},
   "outputs": [
    {
     "name": "stdout",
     "output_type": "stream",
     "text": [
      "[[-1.82685527]\n",
      " [-1.83426261]\n",
      " [ 3.66387129]]\n"
     ]
    },
    {
     "data": {
      "text/plain": [
       "100.0"
      ]
     },
     "execution_count": 13,
     "metadata": {},
     "output_type": "execute_result"
    }
   ],
   "source": [
    "# create class object\n",
    "mm = Neural_Network()\n",
    "# load model which will be provided by you\n",
    "mm.loadModel('msds19027_task1_saved.npy')\n",
    "# check accuracy of that model\n",
    "mm.accuracy(testX,testY)\n",
    "\n",
    "\n"
   ]
  },
  {
   "cell_type": "code",
   "execution_count": null,
   "metadata": {},
   "outputs": [],
   "source": []
  }
 ],
 "metadata": {
  "kernelspec": {
   "display_name": "Python 3",
   "language": "python",
   "name": "python3"
  },
  "language_info": {
   "codemirror_mode": {
    "name": "ipython",
    "version": 3
   },
   "file_extension": ".py",
   "mimetype": "text/x-python",
   "name": "python",
   "nbconvert_exporter": "python",
   "pygments_lexer": "ipython3",
   "version": "3.7.3"
  }
 },
 "nbformat": 4,
 "nbformat_minor": 2
}
